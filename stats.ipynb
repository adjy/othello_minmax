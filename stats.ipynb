{
 "cells": [
  {
   "cell_type": "code",
   "execution_count": 1,
   "id": "bce155e8-8a4b-460d-b843-427a6a973a07",
   "metadata": {},
   "outputs": [],
   "source": [
    "%load_ext autoreload"
   ]
  },
  {
   "cell_type": "code",
   "execution_count": 2,
   "id": "2129bd56-ec8a-4d07-8619-cbdc394a9a9d",
   "metadata": {},
   "outputs": [],
   "source": [
    "%autoreload 2"
   ]
  },
  {
   "cell_type": "code",
   "execution_count": 1,
   "id": "7130bdb3-2e26-4c0e-928f-42d2473c96fe",
   "metadata": {},
   "outputs": [],
   "source": [
    "import jeulib"
   ]
  },
  {
   "cell_type": "code",
   "execution_count": 2,
   "id": "0ee9b1bb-7b4f-41a6-88a8-4d48dd3214da",
   "metadata": {},
   "outputs": [],
   "source": [
    "import joueurlib"
   ]
  },
  {
   "cell_type": "code",
   "execution_count": 3,
   "id": "b09feb30-01a0-4c13-8055-dc04b890b1fc",
   "metadata": {},
   "outputs": [],
   "source": [
    "opts = {\"choix_joueurs\": False}"
   ]
  },
  {
   "cell_type": "code",
   "execution_count": null,
   "id": "896a824e-3653-4cbb-8dca-3e5c1f897a75",
   "metadata": {},
   "outputs": [
    {
     "name": "stdout",
     "output_type": "stream",
     "text": [
      "Quel type de joueur souhaitez vous sélectionner pour noir ? Les possibilités sont :\n",
      "1  : <class 'joueurlib.Humain'>\n",
      "2  : <class 'joueurlib.Random'>\n",
      "3  : <class 'joueurlib.Minmax'>\n",
      "4  : <class 'joueurlib.AlphaBeta'>\n"
     ]
    }
   ],
   "source": [
    "\n",
    "jeu = jeulib.Jeu()\n",
    "jeu.noir = joueurlib.Humain(jeu, \"noir\", opts)\n",
    "jeu.blanc = joueurlib.Random(jeu, \"blanc\", opts)\n"
   ]
  },
  {
   "cell_type": "code",
   "execution_count": null,
   "id": "d56c2098-693d-4346-bf05-ea79f335bed2",
   "metadata": {},
   "outputs": [],
   "source": [
    "jeu.demarrer()"
   ]
  },
  {
   "cell_type": "code",
   "execution_count": 6,
   "id": "0a7ab723-b8ed-4f1f-9cb9-0163163d6ea9",
   "metadata": {},
   "outputs": [
    {
     "data": {
      "text/plain": [
       "8"
      ]
     },
     "execution_count": 6,
     "metadata": {},
     "output_type": "execute_result"
    }
   ],
   "source": [
    "jeu.plateau.taille"
   ]
  },
  {
   "cell_type": "code",
   "execution_count": 7,
   "id": "789dc794-74bf-423d-b31c-da841c1711cd",
   "metadata": {},
   "outputs": [
    {
     "ename": "AttributeError",
     "evalue": "'Humain' object has no attribute 'stats'",
     "output_type": "error",
     "traceback": [
      "\u001b[0;31m---------------------------------------------------------------------------\u001b[0m",
      "\u001b[0;31mAttributeError\u001b[0m                            Traceback (most recent call last)",
      "Cell \u001b[0;32mIn[7], line 1\u001b[0m\n\u001b[0;32m----> 1\u001b[0m \u001b[43mjeu\u001b[49m\u001b[38;5;241;43m.\u001b[39;49m\u001b[43mjoueur_courant\u001b[49m\u001b[38;5;241;43m.\u001b[39;49m\u001b[43mstats\u001b[49m(\u001b[38;5;241m10\u001b[39m)\n",
      "\u001b[0;31mAttributeError\u001b[0m: 'Humain' object has no attribute 'stats'"
     ]
    }
   ],
   "source": [
    "jeu.joueur_courant.stats(10)"
   ]
  },
  {
   "cell_type": "code",
   "execution_count": null,
   "id": "f0dd097a-967a-4939-95fe-1643cc9e5d87",
   "metadata": {},
   "outputs": [],
   "source": []
  },
  {
   "cell_type": "code",
   "execution_count": null,
   "id": "9daa820e-203e-46ba-aedf-c4a0fd5ce5ab",
   "metadata": {},
   "outputs": [],
   "source": []
  }
 ],
 "metadata": {
  "kernelspec": {
   "display_name": "Python 3 (ipykernel)",
   "language": "python",
   "name": "python3"
  },
  "language_info": {
   "codemirror_mode": {
    "name": "ipython",
    "version": 3
   },
   "file_extension": ".py",
   "mimetype": "text/x-python",
   "name": "python",
   "nbconvert_exporter": "python",
   "pygments_lexer": "ipython3",
   "version": "3.8.18"
  }
 },
 "nbformat": 4,
 "nbformat_minor": 5
}
